{
 "cells": [
  {
   "cell_type": "code",
   "execution_count": 2,
   "metadata": {},
   "outputs": [],
   "source": [
    "import numpy as np "
   ]
  },
  {
   "cell_type": "code",
   "execution_count": 5,
   "metadata": {},
   "outputs": [
    {
     "data": {
      "text/plain": [
       "['AT',\n",
       " 'AC',\n",
       " 'AG',\n",
       " 'TC',\n",
       " 'TG',\n",
       " 'CG',\n",
       " 'AA',\n",
       " 'TT',\n",
       " 'CC',\n",
       " 'GG',\n",
       " 'GC',\n",
       " 'GT',\n",
       " 'GA',\n",
       " 'CT',\n",
       " 'CA',\n",
       " 'TA']"
      ]
     },
     "execution_count": 5,
     "metadata": {},
     "output_type": "execute_result"
    }
   ],
   "source": [
    "from itertools import combinations\n",
    "\n",
    "nuc = [\"A\",\"T\",\"C\",\"G\"]\n",
    "nuc2 = [\"G\",\"C\",\"T\",\"A\"]\n",
    "comb = combinations(nuc,2)\n",
    "comb2 = combinations(nuc2,2)\n",
    "lst = []\n",
    "for i in comb:\n",
    "    lst.append(\"\".join(i))\n",
    "lst.append(\"AA\")\n",
    "lst.append(\"TT\")\n",
    "lst.append(\"CC\")\n",
    "lst.append(\"GG\")\n",
    "\n",
    "for i in comb2:\n",
    "    lst.append(\"\".join(i))\n",
    "\n",
    "lst\n"
   ]
  },
  {
   "cell_type": "code",
   "execution_count": 6,
   "metadata": {},
   "outputs": [
    {
     "data": {
      "text/plain": [
       "{'TC': 6,\n",
       " 'GC': 12,\n",
       " 'AG': 7,\n",
       " 'CT': 7,\n",
       " 'GG': 13,\n",
       " 'AC': 4,\n",
       " 'CG': 10,\n",
       " 'CC': 13,\n",
       " 'TG': 6,\n",
       " 'GA': 6,\n",
       " 'TT': 1,\n",
       " 'GT': 4,\n",
       " 'CA': 5,\n",
       " 'AA': 3,\n",
       " 'AT': 2,\n",
       " 'TA': 1}"
      ]
     },
     "execution_count": 6,
     "metadata": {},
     "output_type": "execute_result"
    }
   ],
   "source": [
    "cpg_dict = {} \n",
    "with open(\"/SampleCode/MSA/cpg100.txt\") as f1:\n",
    "    for line in f1:\n",
    "        line = line.strip()\n",
    "        for i in lst:\n",
    "            if line == i:\n",
    "                if not line in cpg_dict:\n",
    "                    cpg_dict[line] = 1\n",
    "                else:\n",
    "                    cpg_dict[line] += 1 \n",
    "\n",
    "cpg_dict"
   ]
  },
  {
   "cell_type": "code",
   "execution_count": 7,
   "metadata": {},
   "outputs": [
    {
     "name": "stdout",
     "output_type": "stream",
     "text": [
      "14\n",
      "16\n",
      "35\n",
      "35\n"
     ]
    },
    {
     "data": {
      "text/plain": [
       "{'TC': 0.42857142857142855,\n",
       " 'GC': 0.34285714285714286,\n",
       " 'AG': 0.4375,\n",
       " 'CT': 0.2,\n",
       " 'GG': 0.37142857142857144,\n",
       " 'AC': 0.25,\n",
       " 'CG': 0.2857142857142857,\n",
       " 'CC': 0.37142857142857144,\n",
       " 'TG': 0.42857142857142855,\n",
       " 'GA': 0.17142857142857143,\n",
       " 'TT': 0.07142857142857142,\n",
       " 'GT': 0.11428571428571428,\n",
       " 'CA': 0.14285714285714285,\n",
       " 'AA': 0.1875,\n",
       " 'AT': 0.125,\n",
       " 'TA': 0.07142857142857142}"
      ]
     },
     "execution_count": 7,
     "metadata": {},
     "output_type": "execute_result"
    }
   ],
   "source": [
    "cpg_dict\n",
    "Tstart = 0\n",
    "Astart = 0 \n",
    "Cstart = 0 \n",
    "Gstart = 0 \n",
    "for key,value in cpg_dict.items():\n",
    "    if key.startswith(\"T\"):\n",
    "        Tstart += value \n",
    "    if key.startswith(\"G\"):\n",
    "        Gstart += value \n",
    "    if key.startswith(\"C\"):\n",
    "        Cstart += value \n",
    "    if key.startswith(\"A\"):\n",
    "        Astart += value\n",
    "\n",
    "\n",
    "print(Tstart)\n",
    "print(Astart) \n",
    "print(Cstart) \n",
    "print(Gstart)\n",
    "\n",
    "def prob(d,Astart,Cstart,Gstart,Tstart):\n",
    "    transition_prob = {}\n",
    "    for key,value in d.items():\n",
    "        if key.startswith(\"T\"):\n",
    "            #print(key,value / Tstart)\n",
    "            transition_prob[key] = (value / Tstart)\n",
    "        if key.startswith(\"G\"):\n",
    "            #print(key,value / Gstart)\n",
    "            transition_prob[key] = (value / Gstart)\n",
    "        if key.startswith(\"A\"):\n",
    "            #print(key,value / Astart)\n",
    "            transition_prob[key] = (value / Astart)\n",
    "        if key.startswith(\"C\"):\n",
    "            #print(key,value / Cstart)\n",
    "            transition_prob[key] = (value / Cstart)\n",
    "    return transition_prob\n",
    "\n",
    "cpg_transition_prob = prob(cpg_dict,Astart=Astart,Cstart=Cstart,Gstart=Gstart,Tstart=Tstart)\n",
    "cpg_transition_prob"
   ]
  },
  {
   "cell_type": "code",
   "execution_count": 8,
   "metadata": {},
   "outputs": [
    {
     "data": {
      "text/plain": [
       "0.02798833819241982"
      ]
     },
     "execution_count": 8,
     "metadata": {},
     "output_type": "execute_result"
    }
   ],
   "source": [
    "def odds(seq,cpg_transition_prob):\n",
    "    import math\n",
    "    lst = []\n",
    "    prob = []\n",
    "    seq = list(seq)\n",
    "    multiple = 1\n",
    "    for i in seq:\n",
    "        lst.append(i)\n",
    "        if len(lst) == 2:\n",
    "            prob.append(cpg_transition_prob[\"\".join(lst)])\n",
    "            lst.pop(0) #remove the first element from list (makes the sliding window)\n",
    "        #print(prob)\n",
    "    for i in prob:\n",
    "        multiple = i*multiple\n",
    "\n",
    "    return multiple\n",
    "\n",
    "\n",
    "\n",
    "\n",
    "\n",
    "            \n",
    "odds(\"CGCG\",cpg_transition_prob)"
   ]
  },
  {
   "cell_type": "code",
   "execution_count": 9,
   "metadata": {},
   "outputs": [
    {
     "name": "stdout",
     "output_type": "stream",
     "text": [
      "31\n",
      "29\n",
      "20\n",
      "20\n"
     ]
    },
    {
     "data": {
      "text/plain": [
       "0.0005000000000000001"
      ]
     },
     "execution_count": 9,
     "metadata": {},
     "output_type": "execute_result"
    }
   ],
   "source": [
    "cpg2_dict = {}\n",
    "with open(\"/SampleCode/MSA/non100.txt\") as f1:\n",
    "    for line in f1:\n",
    "        line = line.strip()\n",
    "        for i in lst:\n",
    "            if line == i:\n",
    "                if not line in cpg2_dict:\n",
    "                    cpg2_dict[line] = 1\n",
    "                else:\n",
    "                    cpg2_dict[line] += 1 \n",
    "\n",
    "nonTstart = 0\n",
    "nonAstart = 0 \n",
    "nonCstart = 0 \n",
    "nonGstart = 0 \n",
    "for key,value in cpg2_dict.items():\n",
    "    if key.startswith(\"T\"):\n",
    "        nonTstart += value \n",
    "    if key.startswith(\"G\"):\n",
    "        nonGstart += value \n",
    "    if key.startswith(\"C\"):\n",
    "        nonCstart += value \n",
    "    if key.startswith(\"A\"):\n",
    "        nonAstart += value\n",
    "\n",
    "\n",
    "print(nonTstart)\n",
    "print(nonAstart) \n",
    "print(nonCstart) \n",
    "print(nonGstart)\n",
    "noncpg_transition_prob = prob(cpg2_dict,Astart=nonAstart,Cstart=nonCstart,Gstart=nonGstart,Tstart=nonTstart)\n",
    "odds(\"CGCG\",noncpg_transition_prob)"
   ]
  },
  {
   "cell_type": "code",
   "execution_count": 10,
   "metadata": {},
   "outputs": [],
   "source": [
    "import math "
   ]
  },
  {
   "cell_type": "code",
   "execution_count": 11,
   "metadata": {},
   "outputs": [
    {
     "data": {
      "text/plain": [
       "4.207256667643887"
      ]
     },
     "execution_count": 11,
     "metadata": {},
     "output_type": "execute_result"
    }
   ],
   "source": [
    "math.log(0.033586005830903785/0.0005000000000000001)"
   ]
  },
  {
   "cell_type": "code",
   "execution_count": 12,
   "metadata": {},
   "outputs": [
    {
     "name": "stdout",
     "output_type": "stream",
     "text": [
      "1.3445435100711235e-52\n",
      "9.331636276547494e-66\n"
     ]
    }
   ],
   "source": [
    "print(odds(\"CGGTCGGCTCAGCGGCTCCTGCCCTGGTCAGGGGGCGCCAGGTCCTGCCCCTCCTGGGGAGGGCGGGGGGCGAGAAGGGCGATTCTGGGGGCGGTTGCTC\",cpg_transition_prob))\n",
    "print(odds(\"CGGTCGGCTCAGCGGCTCCTGCCCTGGTCAGGGGGCGCCAGGTCCTGCCCCTCCTGGGGAGGGCGGGGGGCGAGAAGGGCGATTCTGGGGGCGGTTGCTC\",noncpg_transition_prob))"
   ]
  },
  {
   "cell_type": "code",
   "execution_count": 13,
   "metadata": {},
   "outputs": [
    {
     "data": {
      "text/plain": [
       "30.298835482183666"
      ]
     },
     "execution_count": 13,
     "metadata": {},
     "output_type": "execute_result"
    }
   ],
   "source": [
    "math.log(1.3445435100711235e-52/9.331636276547494e-66)"
   ]
  },
  {
   "cell_type": "code",
   "execution_count": 14,
   "metadata": {},
   "outputs": [
    {
     "data": {
      "text/plain": [
       "{'CT': 0.35,\n",
       " 'TG': 0.22580645161290322,\n",
       " 'AT': 0.2413793103448276,\n",
       " 'TC': 0.1935483870967742,\n",
       " 'GG': 0.25,\n",
       " 'GT': 0.25,\n",
       " 'GC': 0.2,\n",
       " 'TA': 0.1935483870967742,\n",
       " 'CG': 0.05,\n",
       " 'CC': 0.25,\n",
       " 'AA': 0.3448275862068966,\n",
       " 'GA': 0.3,\n",
       " 'AC': 0.1724137931034483,\n",
       " 'TT': 0.3870967741935484,\n",
       " 'AG': 0.2413793103448276,\n",
       " 'CA': 0.35}"
      ]
     },
     "execution_count": 14,
     "metadata": {},
     "output_type": "execute_result"
    }
   ],
   "source": [
    "noncpg_transition_prob"
   ]
  },
  {
   "cell_type": "code",
   "execution_count": 15,
   "metadata": {},
   "outputs": [],
   "source": [
    "def slidingwindow(seq):\n",
    "    lst = []\n",
    "    slide = [] \n",
    "    seq = list(seq)\n",
    "    for i in seq:\n",
    "        lst.append(i)\n",
    "        if len(lst) == 100:\n",
    "            slide.append(\"\".join(lst))\n",
    "            lst = lst[50:]\n",
    "    print(len(slide))\n",
    "    return slide\n",
    "            \n",
    "\n"
   ]
  },
  {
   "cell_type": "code",
   "execution_count": 16,
   "metadata": {},
   "outputs": [
    {
     "name": "stdout",
     "output_type": "stream",
     "text": [
      "19\n"
     ]
    }
   ],
   "source": [
    "seq = \"CGAGAAAAGATCCTGTCATCACCCTACAGCTCCTATCTTCAGCAAGAAAGCAGGAGCAAAGCTAAATATTCATATTTTCAAGGTACGTAATTTTTTAAAAATAAATGCCATTAATCTATGTAAATGTTACAAACTGTATCTAAGGACTAGGAGATAAGGAGTGAACAATAGGAGTTTTACTTGTAAGAAACTGATGGAGAGATGCTGAAACAATCTATTTACATCAACAGTTTATGTAAGTTCTTTGTTAGATCCTAGATCTGAGAAACTTTTTTGTGAGAAACTGATCGAGAGATGCTGAAATAAGTTTATTTGATAGCAACTATTTTTATCCGGAATTTTGTTCATCTTTTTAGAGCCACTTTTTGTCATTCTGGTAGTATTGGCAAATGCTCATTCGTCAGCTACTTATAACTACCTGTAAGTGGCATCCTTCTCTTCTTTTTGGGTTTAATTTTCCATAATTTGCCTCTACCTTTATCCTTCCAGGAGATTCTACTTCCAAGCAGACGCGGTCGGCCGGCTGCAGGAAAGGGAAGCACAAGCGGAAGAAGCTGCCGGAGCCGCCAGACAGCAGCAGCTCGAACACCGGCTCTGGTCCCCGCAGGGGAGCGCATCAGAACGCACAGCCCTGCTGCCCCTCCGCGGCCTCCTCTCCGCACACCTCGAGCCCGACCTTCCCACCTGCCGCCATGGTGCCCAGCCAGGCCCCTTACCTCGTCCCAGCTTTTCCCCTCCCAGCCGCGACCTCACCCGGAAGAGAATACGCAGCCCCCGGAACTGCACCGGAAGGCCTGCATGGGCTGCCCTTGTCCGAGGGCTTGCAGCCTTACCCAGCTTTCCCTTTTCCTTACTTGGATACTTTTATGACCGTTTTCCTGCCTGACCCCCCTGTCTGTCCTCTGTTGTCGCCATCGTTTTTGCCATGTCCATTCCTGGGGGCGACAGCCTCTTCTGCGATATCACCCTCAATGTCGTCAGCAATGAGTCCAACTCTGGA\"\n",
    "\n",
    "x = slidingwindow(seq=seq)"
   ]
  },
  {
   "cell_type": "code",
   "execution_count": 19,
   "metadata": {},
   "outputs": [
    {
     "name": "stdout",
     "output_type": "stream",
     "text": [
      "1.2110869578142227e-72\n",
      "3.2665445523241714e-58\n"
     ]
    },
    {
     "data": {
      "text/plain": [
       "-33.22840574767392"
      ]
     },
     "execution_count": 19,
     "metadata": {},
     "output_type": "execute_result"
    }
   ],
   "source": [
    "print(odds(x[0],cpg_transition_prob=cpg_transition_prob))\n",
    "print(odds(x[0],noncpg_transition_prob))\n",
    "math.log(1.2110869578142227e-72/3.2665445523241714e-58)\n"
   ]
  },
  {
   "cell_type": "code",
   "execution_count": 23,
   "metadata": {},
   "outputs": [
    {
     "data": {
      "text/plain": [
       "[-33.22840574767392,\n",
       " -48.8755724841751,\n",
       " -36.338557795856595,\n",
       " -42.717006228078056,\n",
       " -37.03733040182131,\n",
       " -41.84028648683284,\n",
       " -51.367578224891936,\n",
       " -36.95614278754564,\n",
       " -41.596910954378814,\n",
       " -14.013446137161214,\n",
       " 22.916469172476816,\n",
       " 28.001630292601984,\n",
       " 27.759372820393747,\n",
       " 17.237350086880618,\n",
       " 12.789969274158416,\n",
       " 3.5308753783467934,\n",
       " -16.63259061735797,\n",
       " -13.229703408822601,\n",
       " -3.98458577956591]"
      ]
     },
     "execution_count": 23,
     "metadata": {},
     "output_type": "execute_result"
    }
   ],
   "source": [
    "all_windows = [(odds(i,cpg_transition_prob=cpg_transition_prob),odds(i,noncpg_transition_prob)) for i in x]\n",
    "\n",
    "all_logs_odds = [math.log(i[0]/i[1]) for i in all_windows]\n",
    "\n",
    "all_logs_odds"
   ]
  },
  {
   "cell_type": "code",
   "execution_count": null,
   "metadata": {},
   "outputs": [],
   "source": []
  }
 ],
 "metadata": {
  "kernelspec": {
   "display_name": "base",
   "language": "python",
   "name": "python3"
  },
  "language_info": {
   "codemirror_mode": {
    "name": "ipython",
    "version": 3
   },
   "file_extension": ".py",
   "mimetype": "text/x-python",
   "name": "python",
   "nbconvert_exporter": "python",
   "pygments_lexer": "ipython3",
   "version": "3.10.13"
  }
 },
 "nbformat": 4,
 "nbformat_minor": 2
}
